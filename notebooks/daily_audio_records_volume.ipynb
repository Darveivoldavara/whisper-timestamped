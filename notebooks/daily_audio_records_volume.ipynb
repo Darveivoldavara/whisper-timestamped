{
 "cells": [
  {
   "cell_type": "markdown",
   "metadata": {},
   "source": [
    "# Текущий дневной объём аудиозаписей для расшифровки"
   ]
  },
  {
   "cell_type": "code",
   "execution_count": 1,
   "metadata": {},
   "outputs": [],
   "source": [
    "import pandas as pd\n",
    "import plotly.express as px\n",
    "import plotly.io as pio\n",
    "\n",
    "pio.renderers.default = \"notebook_connected\"\n",
    "SEED = 5908"
   ]
  },
  {
   "cell_type": "code",
   "execution_count": 2,
   "metadata": {},
   "outputs": [],
   "source": [
    "trs = pd.read_csv(\n",
    "    'transcribations_2024.csv',\n",
    "    dtype={19: object},\n",
    "    parse_dates= [1, 17, 23],\n",
    "    index_col=0\n",
    ")"
   ]
  },
  {
   "cell_type": "code",
   "execution_count": 3,
   "metadata": {},
   "outputs": [
    {
     "name": "stdout",
     "output_type": "stream",
     "text": [
      "<class 'pandas.core.frame.DataFrame'>\n",
      "Index: 3357462 entries, 0 to 3357461\n",
      "Data columns (total 23 columns):\n",
      " #   Column               Dtype         \n",
      "---  ------               -----         \n",
      " 0   transcribation_date  datetime64[ns]\n",
      " 1   date_y               float64       \n",
      " 2   date_m               float64       \n",
      " 3   date_d               float64       \n",
      " 4   side                 bool          \n",
      " 5   text                 object        \n",
      " 6   start                float64       \n",
      " 7   audio_file_name      object        \n",
      " 8   conf                 float64       \n",
      " 9   end_time             float64       \n",
      " 10  sentiment            float64       \n",
      " 11  sentiment_pos        float64       \n",
      " 12  sentiment_neg        float64       \n",
      " 13  ID                   int64         \n",
      " 14  linkedid             float64       \n",
      " 15  dst                  object        \n",
      " 16  record_date          datetime64[ns]\n",
      " 17  source_id            int64         \n",
      " 18  src                  object        \n",
      " 19  cpu_id               int64         \n",
      " 20  duration             float64       \n",
      " 21  file_size            int64         \n",
      " 22  queue_date           datetime64[ns]\n",
      "dtypes: bool(1), datetime64[ns](3), float64(11), int64(4), object(4)\n",
      "memory usage: 592.4+ MB\n"
     ]
    },
    {
     "data": {
      "text/plain": [
       "None"
      ]
     },
     "metadata": {},
     "output_type": "display_data"
    },
    {
     "data": {
      "text/html": [
       "<style type=\"text/css\">\n",
       "</style>\n",
       "<table id=\"T_ee6ab\">\n",
       "  <thead>\n",
       "    <tr>\n",
       "      <th class=\"blank level0\" >&nbsp;</th>\n",
       "      <th id=\"T_ee6ab_level0_col0\" class=\"col_heading level0 col0\" >transcribation_date</th>\n",
       "      <th id=\"T_ee6ab_level0_col1\" class=\"col_heading level0 col1\" >date_y</th>\n",
       "      <th id=\"T_ee6ab_level0_col2\" class=\"col_heading level0 col2\" >date_m</th>\n",
       "      <th id=\"T_ee6ab_level0_col3\" class=\"col_heading level0 col3\" >date_d</th>\n",
       "      <th id=\"T_ee6ab_level0_col4\" class=\"col_heading level0 col4\" >start</th>\n",
       "      <th id=\"T_ee6ab_level0_col5\" class=\"col_heading level0 col5\" >conf</th>\n",
       "      <th id=\"T_ee6ab_level0_col6\" class=\"col_heading level0 col6\" >end_time</th>\n",
       "      <th id=\"T_ee6ab_level0_col7\" class=\"col_heading level0 col7\" >sentiment</th>\n",
       "      <th id=\"T_ee6ab_level0_col8\" class=\"col_heading level0 col8\" >sentiment_pos</th>\n",
       "      <th id=\"T_ee6ab_level0_col9\" class=\"col_heading level0 col9\" >sentiment_neg</th>\n",
       "      <th id=\"T_ee6ab_level0_col10\" class=\"col_heading level0 col10\" >ID</th>\n",
       "      <th id=\"T_ee6ab_level0_col11\" class=\"col_heading level0 col11\" >linkedid</th>\n",
       "      <th id=\"T_ee6ab_level0_col12\" class=\"col_heading level0 col12\" >record_date</th>\n",
       "      <th id=\"T_ee6ab_level0_col13\" class=\"col_heading level0 col13\" >source_id</th>\n",
       "      <th id=\"T_ee6ab_level0_col14\" class=\"col_heading level0 col14\" >cpu_id</th>\n",
       "      <th id=\"T_ee6ab_level0_col15\" class=\"col_heading level0 col15\" >duration</th>\n",
       "      <th id=\"T_ee6ab_level0_col16\" class=\"col_heading level0 col16\" >file_size</th>\n",
       "      <th id=\"T_ee6ab_level0_col17\" class=\"col_heading level0 col17\" >queue_date</th>\n",
       "    </tr>\n",
       "  </thead>\n",
       "  <tbody>\n",
       "    <tr>\n",
       "      <th id=\"T_ee6ab_level0_row0\" class=\"row_heading level0 row0\" >count</th>\n",
       "      <td id=\"T_ee6ab_row0_col0\" class=\"data row0 col0\" >3357462.00</td>\n",
       "      <td id=\"T_ee6ab_row0_col1\" class=\"data row0 col1\" >0.00</td>\n",
       "      <td id=\"T_ee6ab_row0_col2\" class=\"data row0 col2\" >0.00</td>\n",
       "      <td id=\"T_ee6ab_row0_col3\" class=\"data row0 col3\" >0.00</td>\n",
       "      <td id=\"T_ee6ab_row0_col4\" class=\"data row0 col4\" >3357462.00</td>\n",
       "      <td id=\"T_ee6ab_row0_col5\" class=\"data row0 col5\" >3357462.00</td>\n",
       "      <td id=\"T_ee6ab_row0_col6\" class=\"data row0 col6\" >3357462.00</td>\n",
       "      <td id=\"T_ee6ab_row0_col7\" class=\"data row0 col7\" >0.00</td>\n",
       "      <td id=\"T_ee6ab_row0_col8\" class=\"data row0 col8\" >0.00</td>\n",
       "      <td id=\"T_ee6ab_row0_col9\" class=\"data row0 col9\" >0.00</td>\n",
       "      <td id=\"T_ee6ab_row0_col10\" class=\"data row0 col10\" >3357462.00</td>\n",
       "      <td id=\"T_ee6ab_row0_col11\" class=\"data row0 col11\" >3356882.00</td>\n",
       "      <td id=\"T_ee6ab_row0_col12\" class=\"data row0 col12\" >3357462.00</td>\n",
       "      <td id=\"T_ee6ab_row0_col13\" class=\"data row0 col13\" >3357462.00</td>\n",
       "      <td id=\"T_ee6ab_row0_col14\" class=\"data row0 col14\" >3357462.00</td>\n",
       "      <td id=\"T_ee6ab_row0_col15\" class=\"data row0 col15\" >3357462.00</td>\n",
       "      <td id=\"T_ee6ab_row0_col16\" class=\"data row0 col16\" >3357462.00</td>\n",
       "      <td id=\"T_ee6ab_row0_col17\" class=\"data row0 col17\" >3357462.00</td>\n",
       "    </tr>\n",
       "    <tr>\n",
       "      <th id=\"T_ee6ab_level0_row1\" class=\"row_heading level0 row1\" >mean</th>\n",
       "      <td id=\"T_ee6ab_row1_col0\" class=\"data row1 col0\" >.2f</td>\n",
       "      <td id=\"T_ee6ab_row1_col1\" class=\"data row1 col1\" >nan</td>\n",
       "      <td id=\"T_ee6ab_row1_col2\" class=\"data row1 col2\" >nan</td>\n",
       "      <td id=\"T_ee6ab_row1_col3\" class=\"data row1 col3\" >nan</td>\n",
       "      <td id=\"T_ee6ab_row1_col4\" class=\"data row1 col4\" >102.38</td>\n",
       "      <td id=\"T_ee6ab_row1_col5\" class=\"data row1 col5\" >0.89</td>\n",
       "      <td id=\"T_ee6ab_row1_col6\" class=\"data row1 col6\" >105.25</td>\n",
       "      <td id=\"T_ee6ab_row1_col7\" class=\"data row1 col7\" >nan</td>\n",
       "      <td id=\"T_ee6ab_row1_col8\" class=\"data row1 col8\" >nan</td>\n",
       "      <td id=\"T_ee6ab_row1_col9\" class=\"data row1 col9\" >nan</td>\n",
       "      <td id=\"T_ee6ab_row1_col10\" class=\"data row1 col10\" >167963000.50</td>\n",
       "      <td id=\"T_ee6ab_row1_col11\" class=\"data row1 col11\" >1705127990.19</td>\n",
       "      <td id=\"T_ee6ab_row1_col12\" class=\"data row1 col12\" >.2f</td>\n",
       "      <td id=\"T_ee6ab_row1_col13\" class=\"data row1 col13\" >1.20</td>\n",
       "      <td id=\"T_ee6ab_row1_col14\" class=\"data row1 col14\" >10.30</td>\n",
       "      <td id=\"T_ee6ab_row1_col15\" class=\"data row1 col15\" >196.23</td>\n",
       "      <td id=\"T_ee6ab_row1_col16\" class=\"data row1 col16\" >3139722.61</td>\n",
       "      <td id=\"T_ee6ab_row1_col17\" class=\"data row1 col17\" >.2f</td>\n",
       "    </tr>\n",
       "    <tr>\n",
       "      <th id=\"T_ee6ab_level0_row2\" class=\"row_heading level0 row2\" >min</th>\n",
       "      <td id=\"T_ee6ab_row2_col0\" class=\"data row2 col0\" >.2f</td>\n",
       "      <td id=\"T_ee6ab_row2_col1\" class=\"data row2 col1\" >nan</td>\n",
       "      <td id=\"T_ee6ab_row2_col2\" class=\"data row2 col2\" >nan</td>\n",
       "      <td id=\"T_ee6ab_row2_col3\" class=\"data row2 col3\" >nan</td>\n",
       "      <td id=\"T_ee6ab_row2_col4\" class=\"data row2 col4\" >0.00</td>\n",
       "      <td id=\"T_ee6ab_row2_col5\" class=\"data row2 col5\" >0.00</td>\n",
       "      <td id=\"T_ee6ab_row2_col6\" class=\"data row2 col6\" >0.00</td>\n",
       "      <td id=\"T_ee6ab_row2_col7\" class=\"data row2 col7\" >nan</td>\n",
       "      <td id=\"T_ee6ab_row2_col8\" class=\"data row2 col8\" >nan</td>\n",
       "      <td id=\"T_ee6ab_row2_col9\" class=\"data row2 col9\" >nan</td>\n",
       "      <td id=\"T_ee6ab_row2_col10\" class=\"data row2 col10\" >166284270.00</td>\n",
       "      <td id=\"T_ee6ab_row2_col11\" class=\"data row2 col11\" >1704088914.15</td>\n",
       "      <td id=\"T_ee6ab_row2_col12\" class=\"data row2 col12\" >.2f</td>\n",
       "      <td id=\"T_ee6ab_row2_col13\" class=\"data row2 col13\" >1.00</td>\n",
       "      <td id=\"T_ee6ab_row2_col14\" class=\"data row2 col14\" >0.00</td>\n",
       "      <td id=\"T_ee6ab_row2_col15\" class=\"data row2 col15\" >0.00</td>\n",
       "      <td id=\"T_ee6ab_row2_col16\" class=\"data row2 col16\" >0.00</td>\n",
       "      <td id=\"T_ee6ab_row2_col17\" class=\"data row2 col17\" >.2f</td>\n",
       "    </tr>\n",
       "    <tr>\n",
       "      <th id=\"T_ee6ab_level0_row3\" class=\"row_heading level0 row3\" >25%</th>\n",
       "      <td id=\"T_ee6ab_row3_col0\" class=\"data row3 col0\" >.2f</td>\n",
       "      <td id=\"T_ee6ab_row3_col1\" class=\"data row3 col1\" >nan</td>\n",
       "      <td id=\"T_ee6ab_row3_col2\" class=\"data row3 col2\" >nan</td>\n",
       "      <td id=\"T_ee6ab_row3_col3\" class=\"data row3 col3\" >nan</td>\n",
       "      <td id=\"T_ee6ab_row3_col4\" class=\"data row3 col4\" >28.35</td>\n",
       "      <td id=\"T_ee6ab_row3_col5\" class=\"data row3 col5\" >0.87</td>\n",
       "      <td id=\"T_ee6ab_row3_col6\" class=\"data row3 col6\" >31.11</td>\n",
       "      <td id=\"T_ee6ab_row3_col7\" class=\"data row3 col7\" >nan</td>\n",
       "      <td id=\"T_ee6ab_row3_col8\" class=\"data row3 col8\" >nan</td>\n",
       "      <td id=\"T_ee6ab_row3_col9\" class=\"data row3 col9\" >nan</td>\n",
       "      <td id=\"T_ee6ab_row3_col10\" class=\"data row3 col10\" >167123635.25</td>\n",
       "      <td id=\"T_ee6ab_row3_col11\" class=\"data row3 col11\" >1704719688.15</td>\n",
       "      <td id=\"T_ee6ab_row3_col12\" class=\"data row3 col12\" >.2f</td>\n",
       "      <td id=\"T_ee6ab_row3_col13\" class=\"data row3 col13\" >1.00</td>\n",
       "      <td id=\"T_ee6ab_row3_col14\" class=\"data row3 col14\" >4.00</td>\n",
       "      <td id=\"T_ee6ab_row3_col15\" class=\"data row3 col15\" >85.16</td>\n",
       "      <td id=\"T_ee6ab_row3_col16\" class=\"data row3 col16\" >1362604.00</td>\n",
       "      <td id=\"T_ee6ab_row3_col17\" class=\"data row3 col17\" >.2f</td>\n",
       "    </tr>\n",
       "    <tr>\n",
       "      <th id=\"T_ee6ab_level0_row4\" class=\"row_heading level0 row4\" >50%</th>\n",
       "      <td id=\"T_ee6ab_row4_col0\" class=\"data row4 col0\" >.2f</td>\n",
       "      <td id=\"T_ee6ab_row4_col1\" class=\"data row4 col1\" >nan</td>\n",
       "      <td id=\"T_ee6ab_row4_col2\" class=\"data row4 col2\" >nan</td>\n",
       "      <td id=\"T_ee6ab_row4_col3\" class=\"data row4 col3\" >nan</td>\n",
       "      <td id=\"T_ee6ab_row4_col4\" class=\"data row4 col4\" >68.43</td>\n",
       "      <td id=\"T_ee6ab_row4_col5\" class=\"data row4 col5\" >0.95</td>\n",
       "      <td id=\"T_ee6ab_row4_col6\" class=\"data row4 col6\" >71.46</td>\n",
       "      <td id=\"T_ee6ab_row4_col7\" class=\"data row4 col7\" >nan</td>\n",
       "      <td id=\"T_ee6ab_row4_col8\" class=\"data row4 col8\" >nan</td>\n",
       "      <td id=\"T_ee6ab_row4_col9\" class=\"data row4 col9\" >nan</td>\n",
       "      <td id=\"T_ee6ab_row4_col10\" class=\"data row4 col10\" >167963000.50</td>\n",
       "      <td id=\"T_ee6ab_row4_col11\" class=\"data row4 col11\" >1705129009.16</td>\n",
       "      <td id=\"T_ee6ab_row4_col12\" class=\"data row4 col12\" >.2f</td>\n",
       "      <td id=\"T_ee6ab_row4_col13\" class=\"data row4 col13\" >1.00</td>\n",
       "      <td id=\"T_ee6ab_row4_col14\" class=\"data row4 col14\" >9.00</td>\n",
       "      <td id=\"T_ee6ab_row4_col15\" class=\"data row4 col15\" >165.74</td>\n",
       "      <td id=\"T_ee6ab_row4_col16\" class=\"data row4 col16\" >2651884.00</td>\n",
       "      <td id=\"T_ee6ab_row4_col17\" class=\"data row4 col17\" >.2f</td>\n",
       "    </tr>\n",
       "    <tr>\n",
       "      <th id=\"T_ee6ab_level0_row5\" class=\"row_heading level0 row5\" >75%</th>\n",
       "      <td id=\"T_ee6ab_row5_col0\" class=\"data row5 col0\" >.2f</td>\n",
       "      <td id=\"T_ee6ab_row5_col1\" class=\"data row5 col1\" >nan</td>\n",
       "      <td id=\"T_ee6ab_row5_col2\" class=\"data row5 col2\" >nan</td>\n",
       "      <td id=\"T_ee6ab_row5_col3\" class=\"data row5 col3\" >nan</td>\n",
       "      <td id=\"T_ee6ab_row5_col4\" class=\"data row5 col4\" >138.69</td>\n",
       "      <td id=\"T_ee6ab_row5_col5\" class=\"data row5 col5\" >1.00</td>\n",
       "      <td id=\"T_ee6ab_row5_col6\" class=\"data row5 col6\" >141.66</td>\n",
       "      <td id=\"T_ee6ab_row5_col7\" class=\"data row5 col7\" >nan</td>\n",
       "      <td id=\"T_ee6ab_row5_col8\" class=\"data row5 col8\" >nan</td>\n",
       "      <td id=\"T_ee6ab_row5_col9\" class=\"data row5 col9\" >nan</td>\n",
       "      <td id=\"T_ee6ab_row5_col10\" class=\"data row5 col10\" >168802365.75</td>\n",
       "      <td id=\"T_ee6ab_row5_col11\" class=\"data row5 col11\" >1705568808.24</td>\n",
       "      <td id=\"T_ee6ab_row5_col12\" class=\"data row5 col12\" >.2f</td>\n",
       "      <td id=\"T_ee6ab_row5_col13\" class=\"data row5 col13\" >1.00</td>\n",
       "      <td id=\"T_ee6ab_row5_col14\" class=\"data row5 col14\" >16.00</td>\n",
       "      <td id=\"T_ee6ab_row5_col15\" class=\"data row5 col15\" >251.86</td>\n",
       "      <td id=\"T_ee6ab_row5_col16\" class=\"data row5 col16\" >4029804.00</td>\n",
       "      <td id=\"T_ee6ab_row5_col17\" class=\"data row5 col17\" >.2f</td>\n",
       "    </tr>\n",
       "    <tr>\n",
       "      <th id=\"T_ee6ab_level0_row6\" class=\"row_heading level0 row6\" >max</th>\n",
       "      <td id=\"T_ee6ab_row6_col0\" class=\"data row6 col0\" >.2f</td>\n",
       "      <td id=\"T_ee6ab_row6_col1\" class=\"data row6 col1\" >nan</td>\n",
       "      <td id=\"T_ee6ab_row6_col2\" class=\"data row6 col2\" >nan</td>\n",
       "      <td id=\"T_ee6ab_row6_col3\" class=\"data row6 col3\" >nan</td>\n",
       "      <td id=\"T_ee6ab_row6_col4\" class=\"data row6 col4\" >3592.83</td>\n",
       "      <td id=\"T_ee6ab_row6_col5\" class=\"data row6 col5\" >1.00</td>\n",
       "      <td id=\"T_ee6ab_row6_col6\" class=\"data row6 col6\" >3595.14</td>\n",
       "      <td id=\"T_ee6ab_row6_col7\" class=\"data row6 col7\" >nan</td>\n",
       "      <td id=\"T_ee6ab_row6_col8\" class=\"data row6 col8\" >nan</td>\n",
       "      <td id=\"T_ee6ab_row6_col9\" class=\"data row6 col9\" >nan</td>\n",
       "      <td id=\"T_ee6ab_row6_col10\" class=\"data row6 col10\" >169641731.00</td>\n",
       "      <td id=\"T_ee6ab_row6_col11\" class=\"data row6 col11\" >1706016461.16</td>\n",
       "      <td id=\"T_ee6ab_row6_col12\" class=\"data row6 col12\" >.2f</td>\n",
       "      <td id=\"T_ee6ab_row6_col13\" class=\"data row6 col13\" >2.00</td>\n",
       "      <td id=\"T_ee6ab_row6_col14\" class=\"data row6 col14\" >27.00</td>\n",
       "      <td id=\"T_ee6ab_row6_col15\" class=\"data row6 col15\" >3599.08</td>\n",
       "      <td id=\"T_ee6ab_row6_col16\" class=\"data row6 col16\" >57585324.00</td>\n",
       "      <td id=\"T_ee6ab_row6_col17\" class=\"data row6 col17\" >.2f</td>\n",
       "    </tr>\n",
       "    <tr>\n",
       "      <th id=\"T_ee6ab_level0_row7\" class=\"row_heading level0 row7\" >std</th>\n",
       "      <td id=\"T_ee6ab_row7_col0\" class=\"data row7 col0\" >nan</td>\n",
       "      <td id=\"T_ee6ab_row7_col1\" class=\"data row7 col1\" >nan</td>\n",
       "      <td id=\"T_ee6ab_row7_col2\" class=\"data row7 col2\" >nan</td>\n",
       "      <td id=\"T_ee6ab_row7_col3\" class=\"data row7 col3\" >nan</td>\n",
       "      <td id=\"T_ee6ab_row7_col4\" class=\"data row7 col4\" >117.48</td>\n",
       "      <td id=\"T_ee6ab_row7_col5\" class=\"data row7 col5\" >0.19</td>\n",
       "      <td id=\"T_ee6ab_row7_col6\" class=\"data row7 col6\" >117.80</td>\n",
       "      <td id=\"T_ee6ab_row7_col7\" class=\"data row7 col7\" >nan</td>\n",
       "      <td id=\"T_ee6ab_row7_col8\" class=\"data row7 col8\" >nan</td>\n",
       "      <td id=\"T_ee6ab_row7_col9\" class=\"data row7 col9\" >nan</td>\n",
       "      <td id=\"T_ee6ab_row7_col10\" class=\"data row7 col10\" >969215.94</td>\n",
       "      <td id=\"T_ee6ab_row7_col11\" class=\"data row7 col11\" >521451.97</td>\n",
       "      <td id=\"T_ee6ab_row7_col12\" class=\"data row7 col12\" >nan</td>\n",
       "      <td id=\"T_ee6ab_row7_col13\" class=\"data row7 col13\" >0.40</td>\n",
       "      <td id=\"T_ee6ab_row7_col14\" class=\"data row7 col14\" >7.71</td>\n",
       "      <td id=\"T_ee6ab_row7_col15\" class=\"data row7 col15\" >172.36</td>\n",
       "      <td id=\"T_ee6ab_row7_col16\" class=\"data row7 col16\" >2757835.52</td>\n",
       "      <td id=\"T_ee6ab_row7_col17\" class=\"data row7 col17\" >nan</td>\n",
       "    </tr>\n",
       "  </tbody>\n",
       "</table>\n"
      ],
      "text/plain": [
       "<pandas.io.formats.style.Styler at 0x7f15f3de73d0>"
      ]
     },
     "metadata": {},
     "output_type": "display_data"
    },
    {
     "data": {
      "text/html": [
       "<div>\n",
       "<style scoped>\n",
       "    .dataframe tbody tr th:only-of-type {\n",
       "        vertical-align: middle;\n",
       "    }\n",
       "\n",
       "    .dataframe tbody tr th {\n",
       "        vertical-align: top;\n",
       "    }\n",
       "\n",
       "    .dataframe thead th {\n",
       "        text-align: right;\n",
       "    }\n",
       "</style>\n",
       "<table border=\"1\" class=\"dataframe\">\n",
       "  <thead>\n",
       "    <tr style=\"text-align: right;\">\n",
       "      <th></th>\n",
       "      <th>684367</th>\n",
       "      <th>252012</th>\n",
       "      <th>9669</th>\n",
       "      <th>1590063</th>\n",
       "      <th>356555</th>\n",
       "      <th>3040087</th>\n",
       "      <th>191451</th>\n",
       "      <th>866631</th>\n",
       "      <th>2154132</th>\n",
       "      <th>2787414</th>\n",
       "    </tr>\n",
       "  </thead>\n",
       "  <tbody>\n",
       "    <tr>\n",
       "      <th>transcribation_date</th>\n",
       "      <td>2024-01-07 13:51:19</td>\n",
       "      <td>2024-01-04 11:21:53</td>\n",
       "      <td>2024-01-02 09:52:01</td>\n",
       "      <td>2024-01-12 14:52:41</td>\n",
       "      <td>2024-01-04 19:35:41</td>\n",
       "      <td>2024-01-22 08:57:45</td>\n",
       "      <td>2024-01-03 16:19:18</td>\n",
       "      <td>2024-01-08 19:08:45</td>\n",
       "      <td>2024-01-16 11:43:15</td>\n",
       "      <td>2024-01-20 07:18:05</td>\n",
       "    </tr>\n",
       "    <tr>\n",
       "      <th>date_y</th>\n",
       "      <td>NaN</td>\n",
       "      <td>NaN</td>\n",
       "      <td>NaN</td>\n",
       "      <td>NaN</td>\n",
       "      <td>NaN</td>\n",
       "      <td>NaN</td>\n",
       "      <td>NaN</td>\n",
       "      <td>NaN</td>\n",
       "      <td>NaN</td>\n",
       "      <td>NaN</td>\n",
       "    </tr>\n",
       "    <tr>\n",
       "      <th>date_m</th>\n",
       "      <td>NaN</td>\n",
       "      <td>NaN</td>\n",
       "      <td>NaN</td>\n",
       "      <td>NaN</td>\n",
       "      <td>NaN</td>\n",
       "      <td>NaN</td>\n",
       "      <td>NaN</td>\n",
       "      <td>NaN</td>\n",
       "      <td>NaN</td>\n",
       "      <td>NaN</td>\n",
       "    </tr>\n",
       "    <tr>\n",
       "      <th>date_d</th>\n",
       "      <td>NaN</td>\n",
       "      <td>NaN</td>\n",
       "      <td>NaN</td>\n",
       "      <td>NaN</td>\n",
       "      <td>NaN</td>\n",
       "      <td>NaN</td>\n",
       "      <td>NaN</td>\n",
       "      <td>NaN</td>\n",
       "      <td>NaN</td>\n",
       "      <td>NaN</td>\n",
       "    </tr>\n",
       "    <tr>\n",
       "      <th>side</th>\n",
       "      <td>True</td>\n",
       "      <td>False</td>\n",
       "      <td>False</td>\n",
       "      <td>False</td>\n",
       "      <td>True</td>\n",
       "      <td>False</td>\n",
       "      <td>True</td>\n",
       "      <td>True</td>\n",
       "      <td>False</td>\n",
       "      <td>False</td>\n",
       "    </tr>\n",
       "    <tr>\n",
       "      <th>text</th>\n",
       "      <td>êàê ïîìî÷ü</td>\n",
       "      <td>à</td>\n",
       "      <td>îíî âàñ êàê èç öåëàÿ áëèíû èëè ó íå¸ ñòåêëîêåð...</td>\n",
       "      <td>àëëî çäðàâñòâóéòå ìàñòåð ïî òåëåâèçîðó</td>\n",
       "      <td>íó òàê äèàãíîñòèêó òî ïîëîìêó òî ïîñìîòðèòå</td>\n",
       "      <td>à ÷òî ïîëçóíêîâ ÷åãî çîâ¸ò êòî îñòàâëÿëè ÷òîáû...</td>\n",
       "      <td>ñíîâà âûêëþ÷àþò</td>\n",
       "      <td>äîáðûé âå÷åð</td>\n",
       "      <td>äîáðûé äåíü äåæóðíûé ìàñòåð âëàäèìèð àäëåð âû ...</td>\n",
       "      <td>ïðîâåðêà</td>\n",
       "    </tr>\n",
       "    <tr>\n",
       "      <th>start</th>\n",
       "      <td>26.43</td>\n",
       "      <td>26.37</td>\n",
       "      <td>40.71</td>\n",
       "      <td>11.94</td>\n",
       "      <td>398.43</td>\n",
       "      <td>12.72</td>\n",
       "      <td>100.508643</td>\n",
       "      <td>24.036608</td>\n",
       "      <td>14.85</td>\n",
       "      <td>6.39</td>\n",
       "    </tr>\n",
       "    <tr>\n",
       "      <th>audio_file_name</th>\n",
       "      <td>in_5164_2024-01-07-13-39-19rxtx-out.wav</td>\n",
       "      <td>in_9164467778_2024-01-04-11-09-11rxtx-in.wav</td>\n",
       "      <td>in_5063_2024-01-02-09-35-40rxtx-in.wav</td>\n",
       "      <td>a2024-01-12t14:41:23b_c9857207630d_e9252098540...</td>\n",
       "      <td>in_8127770011_2024-01-04-19-14-43rxtx-out.wav</td>\n",
       "      <td>a2024-01-22t08:41:33b_c9169035066d_e9166055729...</td>\n",
       "      <td>a2024-01-03t15:59:40b_c79032079978d_e912691150...</td>\n",
       "      <td>in_5124_2024-01-08-18-56-35rxtx-out.wav</td>\n",
       "      <td>a2024-01-16t11:30:31b_c9966816168d_e4997342649...</td>\n",
       "      <td>in_5077_2024-01-20-07-07-31rxtx-in.wav</td>\n",
       "    </tr>\n",
       "    <tr>\n",
       "      <th>conf</th>\n",
       "      <td>0.820503</td>\n",
       "      <td>0.867386</td>\n",
       "      <td>0.896242</td>\n",
       "      <td>1.0</td>\n",
       "      <td>0.998356</td>\n",
       "      <td>0.847019</td>\n",
       "      <td>1.0</td>\n",
       "      <td>0.841633</td>\n",
       "      <td>0.884995</td>\n",
       "      <td>0.90441</td>\n",
       "    </tr>\n",
       "    <tr>\n",
       "      <th>end_time</th>\n",
       "      <td>27.0</td>\n",
       "      <td>26.67</td>\n",
       "      <td>48.15</td>\n",
       "      <td>13.59</td>\n",
       "      <td>401.01</td>\n",
       "      <td>16.68</td>\n",
       "      <td>101.67</td>\n",
       "      <td>24.6</td>\n",
       "      <td>21.57</td>\n",
       "      <td>6.96</td>\n",
       "    </tr>\n",
       "    <tr>\n",
       "      <th>sentiment</th>\n",
       "      <td>NaN</td>\n",
       "      <td>NaN</td>\n",
       "      <td>NaN</td>\n",
       "      <td>NaN</td>\n",
       "      <td>NaN</td>\n",
       "      <td>NaN</td>\n",
       "      <td>NaN</td>\n",
       "      <td>NaN</td>\n",
       "      <td>NaN</td>\n",
       "      <td>NaN</td>\n",
       "    </tr>\n",
       "    <tr>\n",
       "      <th>sentiment_pos</th>\n",
       "      <td>NaN</td>\n",
       "      <td>NaN</td>\n",
       "      <td>NaN</td>\n",
       "      <td>NaN</td>\n",
       "      <td>NaN</td>\n",
       "      <td>NaN</td>\n",
       "      <td>NaN</td>\n",
       "      <td>NaN</td>\n",
       "      <td>NaN</td>\n",
       "      <td>NaN</td>\n",
       "    </tr>\n",
       "    <tr>\n",
       "      <th>sentiment_neg</th>\n",
       "      <td>NaN</td>\n",
       "      <td>NaN</td>\n",
       "      <td>NaN</td>\n",
       "      <td>NaN</td>\n",
       "      <td>NaN</td>\n",
       "      <td>NaN</td>\n",
       "      <td>NaN</td>\n",
       "      <td>NaN</td>\n",
       "      <td>NaN</td>\n",
       "      <td>NaN</td>\n",
       "    </tr>\n",
       "    <tr>\n",
       "      <th>ID</th>\n",
       "      <td>166968637</td>\n",
       "      <td>166536282</td>\n",
       "      <td>166293939</td>\n",
       "      <td>167874333</td>\n",
       "      <td>166640825</td>\n",
       "      <td>169324357</td>\n",
       "      <td>166475721</td>\n",
       "      <td>167150901</td>\n",
       "      <td>168438402</td>\n",
       "      <td>169071684</td>\n",
       "    </tr>\n",
       "    <tr>\n",
       "      <th>linkedid</th>\n",
       "      <td>1704623959.153302</td>\n",
       "      <td>1704355750.152275</td>\n",
       "      <td>1704177339.151628</td>\n",
       "      <td>1705059683.238623</td>\n",
       "      <td>1704384882.152499</td>\n",
       "      <td>1705902093.24107</td>\n",
       "      <td>1704286780.236338</td>\n",
       "      <td>1704729394.15373</td>\n",
       "      <td>1705393831.23957</td>\n",
       "      <td>1705723650.158147</td>\n",
       "    </tr>\n",
       "    <tr>\n",
       "      <th>dst</th>\n",
       "      <td>main</td>\n",
       "      <td>5112</td>\n",
       "      <td>main</td>\n",
       "      <td>9252098540</td>\n",
       "      <td>5152</td>\n",
       "      <td>9166055729</td>\n",
       "      <td>9126911502</td>\n",
       "      <td>main</td>\n",
       "      <td>4997342649</td>\n",
       "      <td>main</td>\n",
       "    </tr>\n",
       "    <tr>\n",
       "      <th>record_date</th>\n",
       "      <td>2024-01-07 13:39:19</td>\n",
       "      <td>2024-01-04 11:09:11</td>\n",
       "      <td>2024-01-02 09:35:40</td>\n",
       "      <td>2024-01-12 14:41:23</td>\n",
       "      <td>2024-01-04 19:14:43</td>\n",
       "      <td>2024-01-22 08:41:33</td>\n",
       "      <td>2024-01-03 15:59:40</td>\n",
       "      <td>2024-01-08 18:56:35</td>\n",
       "      <td>2024-01-16 11:30:31</td>\n",
       "      <td>2024-01-20 07:07:31</td>\n",
       "    </tr>\n",
       "    <tr>\n",
       "      <th>source_id</th>\n",
       "      <td>1</td>\n",
       "      <td>1</td>\n",
       "      <td>1</td>\n",
       "      <td>2</td>\n",
       "      <td>1</td>\n",
       "      <td>2</td>\n",
       "      <td>2</td>\n",
       "      <td>1</td>\n",
       "      <td>2</td>\n",
       "      <td>1</td>\n",
       "    </tr>\n",
       "    <tr>\n",
       "      <th>src</th>\n",
       "      <td>5164</td>\n",
       "      <td>9164467778</td>\n",
       "      <td>5063</td>\n",
       "      <td>9857207630</td>\n",
       "      <td>8127770011</td>\n",
       "      <td>9169035066</td>\n",
       "      <td>79032079978</td>\n",
       "      <td>5124</td>\n",
       "      <td>9966816168</td>\n",
       "      <td>5077</td>\n",
       "    </tr>\n",
       "    <tr>\n",
       "      <th>cpu_id</th>\n",
       "      <td>8</td>\n",
       "      <td>12</td>\n",
       "      <td>0</td>\n",
       "      <td>0</td>\n",
       "      <td>1</td>\n",
       "      <td>14</td>\n",
       "      <td>24</td>\n",
       "      <td>5</td>\n",
       "      <td>2</td>\n",
       "      <td>12</td>\n",
       "    </tr>\n",
       "    <tr>\n",
       "      <th>duration</th>\n",
       "      <td>45.32</td>\n",
       "      <td>97.2</td>\n",
       "      <td>246.2</td>\n",
       "      <td>38.42</td>\n",
       "      <td>419.36</td>\n",
       "      <td>230.98</td>\n",
       "      <td>361.88</td>\n",
       "      <td>47.46</td>\n",
       "      <td>68.72</td>\n",
       "      <td>7.0</td>\n",
       "    </tr>\n",
       "    <tr>\n",
       "      <th>file_size</th>\n",
       "      <td>725164</td>\n",
       "      <td>1555244</td>\n",
       "      <td>3939244</td>\n",
       "      <td>614764</td>\n",
       "      <td>6709804</td>\n",
       "      <td>3695724</td>\n",
       "      <td>5790124</td>\n",
       "      <td>759404</td>\n",
       "      <td>1099564</td>\n",
       "      <td>112044</td>\n",
       "    </tr>\n",
       "    <tr>\n",
       "      <th>queue_date</th>\n",
       "      <td>2024-01-07 13:50:54</td>\n",
       "      <td>2024-01-04 11:20:50</td>\n",
       "      <td>2024-01-02 09:50:07</td>\n",
       "      <td>2024-01-12 14:52:10</td>\n",
       "      <td>2024-01-04 19:32:44</td>\n",
       "      <td>2024-01-22 08:55:54</td>\n",
       "      <td>2024-01-03 16:16:23</td>\n",
       "      <td>2024-01-08 19:08:19</td>\n",
       "      <td>2024-01-16 11:42:27</td>\n",
       "      <td>2024-01-20 07:17:59</td>\n",
       "    </tr>\n",
       "  </tbody>\n",
       "</table>\n",
       "</div>"
      ],
      "text/plain": [
       "                                                     684367   \\\n",
       "transcribation_date                      2024-01-07 13:51:19   \n",
       "date_y                                                   NaN   \n",
       "date_m                                                   NaN   \n",
       "date_d                                                   NaN   \n",
       "side                                                    True   \n",
       "text                                              êàê ïîìî÷ü   \n",
       "start                                                  26.43   \n",
       "audio_file_name      in_5164_2024-01-07-13-39-19rxtx-out.wav   \n",
       "conf                                                0.820503   \n",
       "end_time                                                27.0   \n",
       "sentiment                                                NaN   \n",
       "sentiment_pos                                            NaN   \n",
       "sentiment_neg                                            NaN   \n",
       "ID                                                 166968637   \n",
       "linkedid                                   1704623959.153302   \n",
       "dst                                                     main   \n",
       "record_date                              2024-01-07 13:39:19   \n",
       "source_id                                                  1   \n",
       "src                                                     5164   \n",
       "cpu_id                                                     8   \n",
       "duration                                               45.32   \n",
       "file_size                                             725164   \n",
       "queue_date                               2024-01-07 13:50:54   \n",
       "\n",
       "                                                          252012   \\\n",
       "transcribation_date                           2024-01-04 11:21:53   \n",
       "date_y                                                        NaN   \n",
       "date_m                                                        NaN   \n",
       "date_d                                                        NaN   \n",
       "side                                                        False   \n",
       "text                                                            à   \n",
       "start                                                       26.37   \n",
       "audio_file_name      in_9164467778_2024-01-04-11-09-11rxtx-in.wav   \n",
       "conf                                                     0.867386   \n",
       "end_time                                                    26.67   \n",
       "sentiment                                                     NaN   \n",
       "sentiment_pos                                                 NaN   \n",
       "sentiment_neg                                                 NaN   \n",
       "ID                                                      166536282   \n",
       "linkedid                                        1704355750.152275   \n",
       "dst                                                          5112   \n",
       "record_date                                   2024-01-04 11:09:11   \n",
       "source_id                                                       1   \n",
       "src                                                    9164467778   \n",
       "cpu_id                                                         12   \n",
       "duration                                                     97.2   \n",
       "file_size                                                 1555244   \n",
       "queue_date                                    2024-01-04 11:20:50   \n",
       "\n",
       "                                                               9669     \\\n",
       "transcribation_date                                2024-01-02 09:52:01   \n",
       "date_y                                                             NaN   \n",
       "date_m                                                             NaN   \n",
       "date_d                                                             NaN   \n",
       "side                                                             False   \n",
       "text                 îíî âàñ êàê èç öåëàÿ áëèíû èëè ó íå¸ ñòåêëîêåð...   \n",
       "start                                                            40.71   \n",
       "audio_file_name                 in_5063_2024-01-02-09-35-40rxtx-in.wav   \n",
       "conf                                                          0.896242   \n",
       "end_time                                                         48.15   \n",
       "sentiment                                                          NaN   \n",
       "sentiment_pos                                                      NaN   \n",
       "sentiment_neg                                                      NaN   \n",
       "ID                                                           166293939   \n",
       "linkedid                                             1704177339.151628   \n",
       "dst                                                               main   \n",
       "record_date                                        2024-01-02 09:35:40   \n",
       "source_id                                                            1   \n",
       "src                                                               5063   \n",
       "cpu_id                                                               0   \n",
       "duration                                                         246.2   \n",
       "file_size                                                      3939244   \n",
       "queue_date                                         2024-01-02 09:50:07   \n",
       "\n",
       "                                                               1590063  \\\n",
       "transcribation_date                                2024-01-12 14:52:41   \n",
       "date_y                                                             NaN   \n",
       "date_m                                                             NaN   \n",
       "date_d                                                             NaN   \n",
       "side                                                             False   \n",
       "text                            àëëî çäðàâñòâóéòå ìàñòåð ïî òåëåâèçîðó   \n",
       "start                                                            11.94   \n",
       "audio_file_name      a2024-01-12t14:41:23b_c9857207630d_e9252098540...   \n",
       "conf                                                               1.0   \n",
       "end_time                                                         13.59   \n",
       "sentiment                                                          NaN   \n",
       "sentiment_pos                                                      NaN   \n",
       "sentiment_neg                                                      NaN   \n",
       "ID                                                           167874333   \n",
       "linkedid                                             1705059683.238623   \n",
       "dst                                                         9252098540   \n",
       "record_date                                        2024-01-12 14:41:23   \n",
       "source_id                                                            2   \n",
       "src                                                         9857207630   \n",
       "cpu_id                                                               0   \n",
       "duration                                                         38.42   \n",
       "file_size                                                       614764   \n",
       "queue_date                                         2024-01-12 14:52:10   \n",
       "\n",
       "                                                           356555   \\\n",
       "transcribation_date                            2024-01-04 19:35:41   \n",
       "date_y                                                         NaN   \n",
       "date_m                                                         NaN   \n",
       "date_d                                                         NaN   \n",
       "side                                                          True   \n",
       "text                   íó òàê äèàãíîñòèêó òî ïîëîìêó òî ïîñìîòðèòå   \n",
       "start                                                       398.43   \n",
       "audio_file_name      in_8127770011_2024-01-04-19-14-43rxtx-out.wav   \n",
       "conf                                                      0.998356   \n",
       "end_time                                                    401.01   \n",
       "sentiment                                                      NaN   \n",
       "sentiment_pos                                                  NaN   \n",
       "sentiment_neg                                                  NaN   \n",
       "ID                                                       166640825   \n",
       "linkedid                                         1704384882.152499   \n",
       "dst                                                           5152   \n",
       "record_date                                    2024-01-04 19:14:43   \n",
       "source_id                                                        1   \n",
       "src                                                     8127770011   \n",
       "cpu_id                                                           1   \n",
       "duration                                                    419.36   \n",
       "file_size                                                  6709804   \n",
       "queue_date                                     2024-01-04 19:32:44   \n",
       "\n",
       "                                                               3040087  \\\n",
       "transcribation_date                                2024-01-22 08:57:45   \n",
       "date_y                                                             NaN   \n",
       "date_m                                                             NaN   \n",
       "date_d                                                             NaN   \n",
       "side                                                             False   \n",
       "text                 à ÷òî ïîëçóíêîâ ÷åãî çîâ¸ò êòî îñòàâëÿëè ÷òîáû...   \n",
       "start                                                            12.72   \n",
       "audio_file_name      a2024-01-22t08:41:33b_c9169035066d_e9166055729...   \n",
       "conf                                                          0.847019   \n",
       "end_time                                                         16.68   \n",
       "sentiment                                                          NaN   \n",
       "sentiment_pos                                                      NaN   \n",
       "sentiment_neg                                                      NaN   \n",
       "ID                                                           169324357   \n",
       "linkedid                                              1705902093.24107   \n",
       "dst                                                         9166055729   \n",
       "record_date                                        2024-01-22 08:41:33   \n",
       "source_id                                                            2   \n",
       "src                                                         9169035066   \n",
       "cpu_id                                                              14   \n",
       "duration                                                        230.98   \n",
       "file_size                                                      3695724   \n",
       "queue_date                                         2024-01-22 08:55:54   \n",
       "\n",
       "                                                               191451   \\\n",
       "transcribation_date                                2024-01-03 16:19:18   \n",
       "date_y                                                             NaN   \n",
       "date_m                                                             NaN   \n",
       "date_d                                                             NaN   \n",
       "side                                                              True   \n",
       "text                                                   ñíîâà âûêëþ÷àþò   \n",
       "start                                                       100.508643   \n",
       "audio_file_name      a2024-01-03t15:59:40b_c79032079978d_e912691150...   \n",
       "conf                                                               1.0   \n",
       "end_time                                                        101.67   \n",
       "sentiment                                                          NaN   \n",
       "sentiment_pos                                                      NaN   \n",
       "sentiment_neg                                                      NaN   \n",
       "ID                                                           166475721   \n",
       "linkedid                                             1704286780.236338   \n",
       "dst                                                         9126911502   \n",
       "record_date                                        2024-01-03 15:59:40   \n",
       "source_id                                                            2   \n",
       "src                                                        79032079978   \n",
       "cpu_id                                                              24   \n",
       "duration                                                        361.88   \n",
       "file_size                                                      5790124   \n",
       "queue_date                                         2024-01-03 16:16:23   \n",
       "\n",
       "                                                     866631   \\\n",
       "transcribation_date                      2024-01-08 19:08:45   \n",
       "date_y                                                   NaN   \n",
       "date_m                                                   NaN   \n",
       "date_d                                                   NaN   \n",
       "side                                                    True   \n",
       "text                                            äîáðûé âå÷åð   \n",
       "start                                              24.036608   \n",
       "audio_file_name      in_5124_2024-01-08-18-56-35rxtx-out.wav   \n",
       "conf                                                0.841633   \n",
       "end_time                                                24.6   \n",
       "sentiment                                                NaN   \n",
       "sentiment_pos                                            NaN   \n",
       "sentiment_neg                                            NaN   \n",
       "ID                                                 167150901   \n",
       "linkedid                                    1704729394.15373   \n",
       "dst                                                     main   \n",
       "record_date                              2024-01-08 18:56:35   \n",
       "source_id                                                  1   \n",
       "src                                                     5124   \n",
       "cpu_id                                                     5   \n",
       "duration                                               47.46   \n",
       "file_size                                             759404   \n",
       "queue_date                               2024-01-08 19:08:19   \n",
       "\n",
       "                                                               2154132  \\\n",
       "transcribation_date                                2024-01-16 11:43:15   \n",
       "date_y                                                             NaN   \n",
       "date_m                                                             NaN   \n",
       "date_d                                                             NaN   \n",
       "side                                                             False   \n",
       "text                 äîáðûé äåíü äåæóðíûé ìàñòåð âëàäèìèð àäëåð âû ...   \n",
       "start                                                            14.85   \n",
       "audio_file_name      a2024-01-16t11:30:31b_c9966816168d_e4997342649...   \n",
       "conf                                                          0.884995   \n",
       "end_time                                                         21.57   \n",
       "sentiment                                                          NaN   \n",
       "sentiment_pos                                                      NaN   \n",
       "sentiment_neg                                                      NaN   \n",
       "ID                                                           168438402   \n",
       "linkedid                                              1705393831.23957   \n",
       "dst                                                         4997342649   \n",
       "record_date                                        2024-01-16 11:30:31   \n",
       "source_id                                                            2   \n",
       "src                                                         9966816168   \n",
       "cpu_id                                                               2   \n",
       "duration                                                         68.72   \n",
       "file_size                                                      1099564   \n",
       "queue_date                                         2024-01-16 11:42:27   \n",
       "\n",
       "                                                    2787414  \n",
       "transcribation_date                     2024-01-20 07:18:05  \n",
       "date_y                                                  NaN  \n",
       "date_m                                                  NaN  \n",
       "date_d                                                  NaN  \n",
       "side                                                  False  \n",
       "text                                               ïðîâåðêà  \n",
       "start                                                  6.39  \n",
       "audio_file_name      in_5077_2024-01-20-07-07-31rxtx-in.wav  \n",
       "conf                                                0.90441  \n",
       "end_time                                               6.96  \n",
       "sentiment                                               NaN  \n",
       "sentiment_pos                                           NaN  \n",
       "sentiment_neg                                           NaN  \n",
       "ID                                                169071684  \n",
       "linkedid                                  1705723650.158147  \n",
       "dst                                                    main  \n",
       "record_date                             2024-01-20 07:07:31  \n",
       "source_id                                                 1  \n",
       "src                                                    5077  \n",
       "cpu_id                                                   12  \n",
       "duration                                                7.0  \n",
       "file_size                                            112044  \n",
       "queue_date                              2024-01-20 07:17:59  "
      ]
     },
     "metadata": {},
     "output_type": "display_data"
    }
   ],
   "source": [
    "display(\n",
    "    trs.info(),\n",
    "    trs.describe().style.format('{:.2f}'),\n",
    "    trs.sample(10, random_state=SEED).T\n",
    "    )"
   ]
  },
  {
   "cell_type": "markdown",
   "metadata": {},
   "source": [
    "Удалим ненужные пустые колонки."
   ]
  },
  {
   "cell_type": "code",
   "execution_count": 4,
   "metadata": {},
   "outputs": [],
   "source": [
    "trs = trs.drop(\n",
    "    ['date_y', 'date_m', 'sentiment', 'sentiment_pos', 'sentiment'],\n",
    "    axis=1\n",
    ")"
   ]
  },
  {
   "cell_type": "markdown",
   "metadata": {},
   "source": [
    "Получим записи с уникальными именами файлов и ID разговора, чтобы учитывать длительность только уникальных незадублированных файлов. Оставим также только записи с распознанным текстом."
   ]
  },
  {
   "cell_type": "code",
   "execution_count": 5,
   "metadata": {},
   "outputs": [],
   "source": [
    "unique_files = trs[trs.text.notna()].drop_duplicates(\n",
    "    subset=['linkedid', 'audio_file_name']\n",
    ")\n",
    "unique_files.date_d = unique_files.record_date.dt.date"
   ]
  },
  {
   "cell_type": "markdown",
   "metadata": {},
   "source": [
    "Далее посчитаем суммарную длительность аудиозаписей для распознавания по дням в минутах."
   ]
  },
  {
   "cell_type": "code",
   "execution_count": 6,
   "metadata": {},
   "outputs": [],
   "source": [
    "daily_duration = unique_files.groupby('date_d')['duration'].sum().reset_index()\n",
    "daily_duration.duration = daily_duration.duration / 60"
   ]
  },
  {
   "cell_type": "code",
   "execution_count": 7,
   "metadata": {},
   "outputs": [
    {
     "data": {
      "text/html": [
       "<div>\n",
       "<style scoped>\n",
       "    .dataframe tbody tr th:only-of-type {\n",
       "        vertical-align: middle;\n",
       "    }\n",
       "\n",
       "    .dataframe tbody tr th {\n",
       "        vertical-align: top;\n",
       "    }\n",
       "\n",
       "    .dataframe thead th {\n",
       "        text-align: right;\n",
       "    }\n",
       "</style>\n",
       "<table border=\"1\" class=\"dataframe\">\n",
       "  <thead>\n",
       "    <tr style=\"text-align: right;\">\n",
       "      <th></th>\n",
       "      <th>date_d</th>\n",
       "      <th>duration</th>\n",
       "    </tr>\n",
       "  </thead>\n",
       "  <tbody>\n",
       "    <tr>\n",
       "      <th>0</th>\n",
       "      <td>2024-01-01</td>\n",
       "      <td>39.969667</td>\n",
       "    </tr>\n",
       "    <tr>\n",
       "      <th>1</th>\n",
       "      <td>2024-01-02</td>\n",
       "      <td>13928.201237</td>\n",
       "    </tr>\n",
       "    <tr>\n",
       "      <th>2</th>\n",
       "      <td>2024-01-03</td>\n",
       "      <td>17771.537604</td>\n",
       "    </tr>\n",
       "    <tr>\n",
       "      <th>3</th>\n",
       "      <td>2024-01-04</td>\n",
       "      <td>19107.857633</td>\n",
       "    </tr>\n",
       "    <tr>\n",
       "      <th>4</th>\n",
       "      <td>2024-01-05</td>\n",
       "      <td>20873.734483</td>\n",
       "    </tr>\n",
       "    <tr>\n",
       "      <th>5</th>\n",
       "      <td>2024-01-06</td>\n",
       "      <td>18026.749338</td>\n",
       "    </tr>\n",
       "    <tr>\n",
       "      <th>6</th>\n",
       "      <td>2024-01-07</td>\n",
       "      <td>14085.537487</td>\n",
       "    </tr>\n",
       "    <tr>\n",
       "      <th>7</th>\n",
       "      <td>2024-01-08</td>\n",
       "      <td>19878.013375</td>\n",
       "    </tr>\n",
       "    <tr>\n",
       "      <th>8</th>\n",
       "      <td>2024-01-09</td>\n",
       "      <td>30633.502542</td>\n",
       "    </tr>\n",
       "    <tr>\n",
       "      <th>9</th>\n",
       "      <td>2024-01-10</td>\n",
       "      <td>31820.098371</td>\n",
       "    </tr>\n",
       "    <tr>\n",
       "      <th>10</th>\n",
       "      <td>2024-01-11</td>\n",
       "      <td>28557.912506</td>\n",
       "    </tr>\n",
       "    <tr>\n",
       "      <th>11</th>\n",
       "      <td>2024-01-12</td>\n",
       "      <td>24634.361763</td>\n",
       "    </tr>\n",
       "    <tr>\n",
       "      <th>12</th>\n",
       "      <td>2024-01-13</td>\n",
       "      <td>19175.180933</td>\n",
       "    </tr>\n",
       "    <tr>\n",
       "      <th>13</th>\n",
       "      <td>2024-01-14</td>\n",
       "      <td>16946.708217</td>\n",
       "    </tr>\n",
       "    <tr>\n",
       "      <th>14</th>\n",
       "      <td>2024-01-15</td>\n",
       "      <td>27398.953410</td>\n",
       "    </tr>\n",
       "    <tr>\n",
       "      <th>15</th>\n",
       "      <td>2024-01-16</td>\n",
       "      <td>24504.804127</td>\n",
       "    </tr>\n",
       "    <tr>\n",
       "      <th>16</th>\n",
       "      <td>2024-01-17</td>\n",
       "      <td>25390.787867</td>\n",
       "    </tr>\n",
       "    <tr>\n",
       "      <th>17</th>\n",
       "      <td>2024-01-18</td>\n",
       "      <td>26516.760531</td>\n",
       "    </tr>\n",
       "    <tr>\n",
       "      <th>18</th>\n",
       "      <td>2024-01-19</td>\n",
       "      <td>21678.013550</td>\n",
       "    </tr>\n",
       "    <tr>\n",
       "      <th>19</th>\n",
       "      <td>2024-01-20</td>\n",
       "      <td>19302.831131</td>\n",
       "    </tr>\n",
       "    <tr>\n",
       "      <th>20</th>\n",
       "      <td>2024-01-21</td>\n",
       "      <td>15657.104925</td>\n",
       "    </tr>\n",
       "    <tr>\n",
       "      <th>21</th>\n",
       "      <td>2024-01-22</td>\n",
       "      <td>27623.006060</td>\n",
       "    </tr>\n",
       "    <tr>\n",
       "      <th>22</th>\n",
       "      <td>2024-01-23</td>\n",
       "      <td>19257.227092</td>\n",
       "    </tr>\n",
       "  </tbody>\n",
       "</table>\n",
       "</div>"
      ],
      "text/plain": [
       "        date_d      duration\n",
       "0   2024-01-01     39.969667\n",
       "1   2024-01-02  13928.201237\n",
       "2   2024-01-03  17771.537604\n",
       "3   2024-01-04  19107.857633\n",
       "4   2024-01-05  20873.734483\n",
       "5   2024-01-06  18026.749338\n",
       "6   2024-01-07  14085.537487\n",
       "7   2024-01-08  19878.013375\n",
       "8   2024-01-09  30633.502542\n",
       "9   2024-01-10  31820.098371\n",
       "10  2024-01-11  28557.912506\n",
       "11  2024-01-12  24634.361763\n",
       "12  2024-01-13  19175.180933\n",
       "13  2024-01-14  16946.708217\n",
       "14  2024-01-15  27398.953410\n",
       "15  2024-01-16  24504.804127\n",
       "16  2024-01-17  25390.787867\n",
       "17  2024-01-18  26516.760531\n",
       "18  2024-01-19  21678.013550\n",
       "19  2024-01-20  19302.831131\n",
       "20  2024-01-21  15657.104925\n",
       "21  2024-01-22  27623.006060\n",
       "22  2024-01-23  19257.227092"
      ]
     },
     "execution_count": 7,
     "metadata": {},
     "output_type": "execute_result"
    }
   ],
   "source": [
    "daily_duration"
   ]
  },
  {
   "cell_type": "code",
   "execution_count": 14,
   "metadata": {},
   "outputs": [
    {
     "data": {
      "application/vnd.plotly.v1+json": {
       "config": {
        "plotlyServerURL": "https://plot.ly"
       },
       "data": [
        {
         "hovertemplate": "date_d=%{x}<br>duration=%{y}<extra></extra>",
         "legendgroup": "",
         "line": {
          "color": "#636efa",
          "dash": "solid"
         },
         "marker": {
          "symbol": "circle"
         },
         "mode": "lines+markers",
         "name": "",
         "orientation": "v",
         "showlegend": false,
         "type": "scatter",
         "x": [
          "2024-01-01",
          "2024-01-02",
          "2024-01-03",
          "2024-01-04",
          "2024-01-05",
          "2024-01-06",
          "2024-01-07",
          "2024-01-08",
          "2024-01-09",
          "2024-01-10",
          "2024-01-11",
          "2024-01-12",
          "2024-01-13",
          "2024-01-14",
          "2024-01-15",
          "2024-01-16",
          "2024-01-17",
          "2024-01-18",
          "2024-01-19",
          "2024-01-20",
          "2024-01-21",
          "2024-01-22",
          "2024-01-23"
         ],
         "xaxis": "x",
         "y": [
          39.96966666666666,
          13928.2012375,
          17771.537604166668,
          19107.857633333337,
          20873.73448333333,
          18026.7493375,
          14085.5374875,
          19878.013375,
          30633.50254166667,
          31820.098370833333,
          28557.912506250002,
          24634.3617625,
          19175.180933333333,
          16946.708216666666,
          27398.953410416667,
          24504.804127083335,
          25390.78786666667,
          26516.760531249998,
          21678.01355,
          19302.83113125,
          15657.104925,
          27623.00606041667,
          19257.227091666668
         ],
         "yaxis": "y"
        }
       ],
       "layout": {
        "height": 600,
        "legend": {
         "tracegroupgap": 0
        },
        "margin": {
         "t": 60
        },
        "template": {
         "data": {
          "bar": [
           {
            "error_x": {
             "color": "#2a3f5f"
            },
            "error_y": {
             "color": "#2a3f5f"
            },
            "marker": {
             "line": {
              "color": "#E5ECF6",
              "width": 0.5
             },
             "pattern": {
              "fillmode": "overlay",
              "size": 10,
              "solidity": 0.2
             }
            },
            "type": "bar"
           }
          ],
          "barpolar": [
           {
            "marker": {
             "line": {
              "color": "#E5ECF6",
              "width": 0.5
             },
             "pattern": {
              "fillmode": "overlay",
              "size": 10,
              "solidity": 0.2
             }
            },
            "type": "barpolar"
           }
          ],
          "carpet": [
           {
            "aaxis": {
             "endlinecolor": "#2a3f5f",
             "gridcolor": "white",
             "linecolor": "white",
             "minorgridcolor": "white",
             "startlinecolor": "#2a3f5f"
            },
            "baxis": {
             "endlinecolor": "#2a3f5f",
             "gridcolor": "white",
             "linecolor": "white",
             "minorgridcolor": "white",
             "startlinecolor": "#2a3f5f"
            },
            "type": "carpet"
           }
          ],
          "choropleth": [
           {
            "colorbar": {
             "outlinewidth": 0,
             "ticks": ""
            },
            "type": "choropleth"
           }
          ],
          "contour": [
           {
            "colorbar": {
             "outlinewidth": 0,
             "ticks": ""
            },
            "colorscale": [
             [
              0,
              "#0d0887"
             ],
             [
              0.1111111111111111,
              "#46039f"
             ],
             [
              0.2222222222222222,
              "#7201a8"
             ],
             [
              0.3333333333333333,
              "#9c179e"
             ],
             [
              0.4444444444444444,
              "#bd3786"
             ],
             [
              0.5555555555555556,
              "#d8576b"
             ],
             [
              0.6666666666666666,
              "#ed7953"
             ],
             [
              0.7777777777777778,
              "#fb9f3a"
             ],
             [
              0.8888888888888888,
              "#fdca26"
             ],
             [
              1,
              "#f0f921"
             ]
            ],
            "type": "contour"
           }
          ],
          "contourcarpet": [
           {
            "colorbar": {
             "outlinewidth": 0,
             "ticks": ""
            },
            "type": "contourcarpet"
           }
          ],
          "heatmap": [
           {
            "colorbar": {
             "outlinewidth": 0,
             "ticks": ""
            },
            "colorscale": [
             [
              0,
              "#0d0887"
             ],
             [
              0.1111111111111111,
              "#46039f"
             ],
             [
              0.2222222222222222,
              "#7201a8"
             ],
             [
              0.3333333333333333,
              "#9c179e"
             ],
             [
              0.4444444444444444,
              "#bd3786"
             ],
             [
              0.5555555555555556,
              "#d8576b"
             ],
             [
              0.6666666666666666,
              "#ed7953"
             ],
             [
              0.7777777777777778,
              "#fb9f3a"
             ],
             [
              0.8888888888888888,
              "#fdca26"
             ],
             [
              1,
              "#f0f921"
             ]
            ],
            "type": "heatmap"
           }
          ],
          "heatmapgl": [
           {
            "colorbar": {
             "outlinewidth": 0,
             "ticks": ""
            },
            "colorscale": [
             [
              0,
              "#0d0887"
             ],
             [
              0.1111111111111111,
              "#46039f"
             ],
             [
              0.2222222222222222,
              "#7201a8"
             ],
             [
              0.3333333333333333,
              "#9c179e"
             ],
             [
              0.4444444444444444,
              "#bd3786"
             ],
             [
              0.5555555555555556,
              "#d8576b"
             ],
             [
              0.6666666666666666,
              "#ed7953"
             ],
             [
              0.7777777777777778,
              "#fb9f3a"
             ],
             [
              0.8888888888888888,
              "#fdca26"
             ],
             [
              1,
              "#f0f921"
             ]
            ],
            "type": "heatmapgl"
           }
          ],
          "histogram": [
           {
            "marker": {
             "pattern": {
              "fillmode": "overlay",
              "size": 10,
              "solidity": 0.2
             }
            },
            "type": "histogram"
           }
          ],
          "histogram2d": [
           {
            "colorbar": {
             "outlinewidth": 0,
             "ticks": ""
            },
            "colorscale": [
             [
              0,
              "#0d0887"
             ],
             [
              0.1111111111111111,
              "#46039f"
             ],
             [
              0.2222222222222222,
              "#7201a8"
             ],
             [
              0.3333333333333333,
              "#9c179e"
             ],
             [
              0.4444444444444444,
              "#bd3786"
             ],
             [
              0.5555555555555556,
              "#d8576b"
             ],
             [
              0.6666666666666666,
              "#ed7953"
             ],
             [
              0.7777777777777778,
              "#fb9f3a"
             ],
             [
              0.8888888888888888,
              "#fdca26"
             ],
             [
              1,
              "#f0f921"
             ]
            ],
            "type": "histogram2d"
           }
          ],
          "histogram2dcontour": [
           {
            "colorbar": {
             "outlinewidth": 0,
             "ticks": ""
            },
            "colorscale": [
             [
              0,
              "#0d0887"
             ],
             [
              0.1111111111111111,
              "#46039f"
             ],
             [
              0.2222222222222222,
              "#7201a8"
             ],
             [
              0.3333333333333333,
              "#9c179e"
             ],
             [
              0.4444444444444444,
              "#bd3786"
             ],
             [
              0.5555555555555556,
              "#d8576b"
             ],
             [
              0.6666666666666666,
              "#ed7953"
             ],
             [
              0.7777777777777778,
              "#fb9f3a"
             ],
             [
              0.8888888888888888,
              "#fdca26"
             ],
             [
              1,
              "#f0f921"
             ]
            ],
            "type": "histogram2dcontour"
           }
          ],
          "mesh3d": [
           {
            "colorbar": {
             "outlinewidth": 0,
             "ticks": ""
            },
            "type": "mesh3d"
           }
          ],
          "parcoords": [
           {
            "line": {
             "colorbar": {
              "outlinewidth": 0,
              "ticks": ""
             }
            },
            "type": "parcoords"
           }
          ],
          "pie": [
           {
            "automargin": true,
            "type": "pie"
           }
          ],
          "scatter": [
           {
            "fillpattern": {
             "fillmode": "overlay",
             "size": 10,
             "solidity": 0.2
            },
            "type": "scatter"
           }
          ],
          "scatter3d": [
           {
            "line": {
             "colorbar": {
              "outlinewidth": 0,
              "ticks": ""
             }
            },
            "marker": {
             "colorbar": {
              "outlinewidth": 0,
              "ticks": ""
             }
            },
            "type": "scatter3d"
           }
          ],
          "scattercarpet": [
           {
            "marker": {
             "colorbar": {
              "outlinewidth": 0,
              "ticks": ""
             }
            },
            "type": "scattercarpet"
           }
          ],
          "scattergeo": [
           {
            "marker": {
             "colorbar": {
              "outlinewidth": 0,
              "ticks": ""
             }
            },
            "type": "scattergeo"
           }
          ],
          "scattergl": [
           {
            "marker": {
             "colorbar": {
              "outlinewidth": 0,
              "ticks": ""
             }
            },
            "type": "scattergl"
           }
          ],
          "scattermapbox": [
           {
            "marker": {
             "colorbar": {
              "outlinewidth": 0,
              "ticks": ""
             }
            },
            "type": "scattermapbox"
           }
          ],
          "scatterpolar": [
           {
            "marker": {
             "colorbar": {
              "outlinewidth": 0,
              "ticks": ""
             }
            },
            "type": "scatterpolar"
           }
          ],
          "scatterpolargl": [
           {
            "marker": {
             "colorbar": {
              "outlinewidth": 0,
              "ticks": ""
             }
            },
            "type": "scatterpolargl"
           }
          ],
          "scatterternary": [
           {
            "marker": {
             "colorbar": {
              "outlinewidth": 0,
              "ticks": ""
             }
            },
            "type": "scatterternary"
           }
          ],
          "surface": [
           {
            "colorbar": {
             "outlinewidth": 0,
             "ticks": ""
            },
            "colorscale": [
             [
              0,
              "#0d0887"
             ],
             [
              0.1111111111111111,
              "#46039f"
             ],
             [
              0.2222222222222222,
              "#7201a8"
             ],
             [
              0.3333333333333333,
              "#9c179e"
             ],
             [
              0.4444444444444444,
              "#bd3786"
             ],
             [
              0.5555555555555556,
              "#d8576b"
             ],
             [
              0.6666666666666666,
              "#ed7953"
             ],
             [
              0.7777777777777778,
              "#fb9f3a"
             ],
             [
              0.8888888888888888,
              "#fdca26"
             ],
             [
              1,
              "#f0f921"
             ]
            ],
            "type": "surface"
           }
          ],
          "table": [
           {
            "cells": {
             "fill": {
              "color": "#EBF0F8"
             },
             "line": {
              "color": "white"
             }
            },
            "header": {
             "fill": {
              "color": "#C8D4E3"
             },
             "line": {
              "color": "white"
             }
            },
            "type": "table"
           }
          ]
         },
         "layout": {
          "annotationdefaults": {
           "arrowcolor": "#2a3f5f",
           "arrowhead": 0,
           "arrowwidth": 1
          },
          "autotypenumbers": "strict",
          "coloraxis": {
           "colorbar": {
            "outlinewidth": 0,
            "ticks": ""
           }
          },
          "colorscale": {
           "diverging": [
            [
             0,
             "#8e0152"
            ],
            [
             0.1,
             "#c51b7d"
            ],
            [
             0.2,
             "#de77ae"
            ],
            [
             0.3,
             "#f1b6da"
            ],
            [
             0.4,
             "#fde0ef"
            ],
            [
             0.5,
             "#f7f7f7"
            ],
            [
             0.6,
             "#e6f5d0"
            ],
            [
             0.7,
             "#b8e186"
            ],
            [
             0.8,
             "#7fbc41"
            ],
            [
             0.9,
             "#4d9221"
            ],
            [
             1,
             "#276419"
            ]
           ],
           "sequential": [
            [
             0,
             "#0d0887"
            ],
            [
             0.1111111111111111,
             "#46039f"
            ],
            [
             0.2222222222222222,
             "#7201a8"
            ],
            [
             0.3333333333333333,
             "#9c179e"
            ],
            [
             0.4444444444444444,
             "#bd3786"
            ],
            [
             0.5555555555555556,
             "#d8576b"
            ],
            [
             0.6666666666666666,
             "#ed7953"
            ],
            [
             0.7777777777777778,
             "#fb9f3a"
            ],
            [
             0.8888888888888888,
             "#fdca26"
            ],
            [
             1,
             "#f0f921"
            ]
           ],
           "sequentialminus": [
            [
             0,
             "#0d0887"
            ],
            [
             0.1111111111111111,
             "#46039f"
            ],
            [
             0.2222222222222222,
             "#7201a8"
            ],
            [
             0.3333333333333333,
             "#9c179e"
            ],
            [
             0.4444444444444444,
             "#bd3786"
            ],
            [
             0.5555555555555556,
             "#d8576b"
            ],
            [
             0.6666666666666666,
             "#ed7953"
            ],
            [
             0.7777777777777778,
             "#fb9f3a"
            ],
            [
             0.8888888888888888,
             "#fdca26"
            ],
            [
             1,
             "#f0f921"
            ]
           ]
          },
          "colorway": [
           "#636efa",
           "#EF553B",
           "#00cc96",
           "#ab63fa",
           "#FFA15A",
           "#19d3f3",
           "#FF6692",
           "#B6E880",
           "#FF97FF",
           "#FECB52"
          ],
          "font": {
           "color": "#2a3f5f"
          },
          "geo": {
           "bgcolor": "white",
           "lakecolor": "white",
           "landcolor": "#E5ECF6",
           "showlakes": true,
           "showland": true,
           "subunitcolor": "white"
          },
          "hoverlabel": {
           "align": "left"
          },
          "hovermode": "closest",
          "mapbox": {
           "style": "light"
          },
          "paper_bgcolor": "white",
          "plot_bgcolor": "#E5ECF6",
          "polar": {
           "angularaxis": {
            "gridcolor": "white",
            "linecolor": "white",
            "ticks": ""
           },
           "bgcolor": "#E5ECF6",
           "radialaxis": {
            "gridcolor": "white",
            "linecolor": "white",
            "ticks": ""
           }
          },
          "scene": {
           "xaxis": {
            "backgroundcolor": "#E5ECF6",
            "gridcolor": "white",
            "gridwidth": 2,
            "linecolor": "white",
            "showbackground": true,
            "ticks": "",
            "zerolinecolor": "white"
           },
           "yaxis": {
            "backgroundcolor": "#E5ECF6",
            "gridcolor": "white",
            "gridwidth": 2,
            "linecolor": "white",
            "showbackground": true,
            "ticks": "",
            "zerolinecolor": "white"
           },
           "zaxis": {
            "backgroundcolor": "#E5ECF6",
            "gridcolor": "white",
            "gridwidth": 2,
            "linecolor": "white",
            "showbackground": true,
            "ticks": "",
            "zerolinecolor": "white"
           }
          },
          "shapedefaults": {
           "line": {
            "color": "#2a3f5f"
           }
          },
          "ternary": {
           "aaxis": {
            "gridcolor": "white",
            "linecolor": "white",
            "ticks": ""
           },
           "baxis": {
            "gridcolor": "white",
            "linecolor": "white",
            "ticks": ""
           },
           "bgcolor": "#E5ECF6",
           "caxis": {
            "gridcolor": "white",
            "linecolor": "white",
            "ticks": ""
           }
          },
          "title": {
           "x": 0.05
          },
          "xaxis": {
           "automargin": true,
           "gridcolor": "white",
           "linecolor": "white",
           "ticks": "",
           "title": {
            "standoff": 15
           },
           "zerolinecolor": "white",
           "zerolinewidth": 2
          },
          "yaxis": {
           "automargin": true,
           "gridcolor": "white",
           "linecolor": "white",
           "ticks": "",
           "title": {
            "standoff": 15
           },
           "zerolinecolor": "white",
           "zerolinewidth": 2
          }
         }
        },
        "title": {
         "text": "Длительность записей в минутах",
         "x": 0.5
        },
        "width": 1400,
        "xaxis": {
         "anchor": "y",
         "domain": [
          0,
          1
         ],
         "title": {
          "text": "Дата"
         }
        },
        "yaxis": {
         "anchor": "x",
         "domain": [
          0,
          1
         ],
         "title": {
          "text": "Кол-во минут"
         }
        }
       }
      }
     },
     "metadata": {},
     "output_type": "display_data"
    }
   ],
   "source": [
    "fig = px.line(\n",
    "    daily_duration,\n",
    "    x='date_d',\n",
    "    y='duration',\n",
    "    markers=True,\n",
    "    width=1400,\n",
    "    height=600\n",
    ").update_layout(\n",
    "    xaxis_title='Дата',\n",
    "    yaxis_title='Кол-во минут',\n",
    "    title=dict(\n",
    "        text='Длительность записей в минутах',\n",
    "        x=.5\n",
    "        )\n",
    ")\n",
    "fig.show()"
   ]
  },
  {
   "cell_type": "markdown",
   "metadata": {},
   "source": [
    "При подсчётете медианного значения не будем учитывать выброс за 1 января."
   ]
  },
  {
   "cell_type": "code",
   "execution_count": 17,
   "metadata": {},
   "outputs": [
    {
     "name": "stdout",
     "output_type": "stream",
     "text": [
      "Медианная длительность файлов для расшифровки — 20376 мин/день\n"
     ]
    }
   ],
   "source": [
    "print(\n",
    "    'Медианная длительность файлов для расшифровки —',\n",
    "    f'{round(daily_duration[1:].duration.median())} мин/день'\n",
    ")"
   ]
  }
 ],
 "metadata": {
  "kernelspec": {
   "display_name": "whisper-timestamped-reports-kkjTHbxf-py3.11",
   "language": "python",
   "name": "python3"
  },
  "language_info": {
   "codemirror_mode": {
    "name": "ipython",
    "version": 3
   },
   "file_extension": ".py",
   "mimetype": "text/x-python",
   "name": "python",
   "nbconvert_exporter": "python",
   "pygments_lexer": "ipython3",
   "version": "3.11.6"
  }
 },
 "nbformat": 4,
 "nbformat_minor": 2
}
